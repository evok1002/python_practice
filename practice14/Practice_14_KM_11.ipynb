{
  "cells": [
    {
      "cell_type": "markdown",
      "metadata": {
        "id": "FMqboNwO4rVs"
      },
      "source": [
        "# **Курс \"Програмування на мові Python\"**"
      ]
    },
    {
      "cell_type": "markdown",
      "metadata": {
        "id": "A2T6MigL5Z06"
      },
      "source": [
        "## **Практичне зайняття №14**\n",
        "\n",
        "### Тема: \"Робота зі спеціальними форматами файлів\""
      ]
    },
    {
      "cell_type": "markdown",
      "metadata": {
        "id": "A34oz70eU463"
      },
      "source": [
        "### **Завдання 1 (1,5 бали)**\n",
        "\n",
        "Створіть CSV-файл, що буде містити від 5 до 10 пісень (творів) вашого улюбленого музиканта. Назва файлу - ім'я музиканта (композитора) або назва гурту.\n",
        "\n",
        "1. Обов'язково додайте до файлу рядок з назвами двох колонок (Song, Year) або (Composition, Year).\n",
        "\n",
        "2. Після запису файлу роздрукуйте назву файлу та усі наявні у файлі рядки (включно із заголовками).\n",
        "\n",
        "3. Для запису та зчитування рядків скористайтесь функціями csv.DictWriter() та csv.DictReader()."
      ]
    },
    {
      "cell_type": "code",
      "execution_count": 1,
      "metadata": {
        "id": "MEJIrG1GU463"
      },
      "outputs": [
        {
          "name": "stdout",
          "output_type": "stream",
          "text": [
            "Starting to read csv file\n",
            "Composition, Year\n",
            "Deen Assalam Lyrics Sabyan Gambu, 1991\n",
            "Beautiful In White Lyrics Westlife, 1992\n",
            "In My Feelings Lyrics Drake, 1993\n",
            "High Rated Gabru Lyrics Guru Randhawa, 1990\n",
            "Mercy Lyrics Brett Young, 1994\n",
            "Despacito Lyrics Luis Fonsi, 1995\n",
            "Shree Hanuman Chalisa Lyrics Hariharan, 1996\n",
            "Daru Badnaam Lyrics Param Singh, 1997\n",
            "Mile Ho Tum Lyrics Tony Kakkar, 1998\n",
            "Torete Lyrics Moonstar88, 1999\n",
            "Done Reading\n"
          ]
        }
      ],
      "source": [
        "song = [\"Deen Assalam Lyrics Sabyan Gambu\",\"Beautiful In White Lyrics Westlife\",\"In My Feelings Lyrics Drake\",\"High Rated Gabru Lyrics Guru Randhawa\",\"Mercy Lyrics Brett Young\",\"Despacito Lyrics Luis Fonsi\",\"Shree Hanuman Chalisa Lyrics Hariharan\",\"Daru Badnaam Lyrics Param Singh\",\"Mile Ho Tum Lyrics Tony Kakkar\",\"Torete Lyrics Moonstar88\"]\n",
        "year = [\"1991\",\"1992\",\"1993\",\"1990\", \"1994\",\"1995\",\"1996\", \"1997\",\"1998\",\"1999\"]\n",
        "song1=[]\n",
        "for i in range(0,10):\n",
        "    song1.append({\"Composition\":song[i],\"Year\":year[i]})\n",
        "import csv\n",
        "with open('sample.csv',\"w\", newline='') as csvfile:\n",
        "    fieldnames=[\"Composition\",\"Year\"]\n",
        "    writer = csv.DictWriter(csvfile, fieldnames=fieldnames )\n",
        "    writer.writeheader()\n",
        "    writer.writerows(song1)\n",
        "print('Starting to read csv file')\n",
        "with open('sample.csv', newline='') as csvfile:\n",
        "    reader = csv.reader(csvfile)\n",
        "    for row in reader:\n",
        "        print(*row, sep=', ')\n",
        "print('Done Reading')"
      ]
    },
    {
      "cell_type": "markdown",
      "metadata": {
        "id": "Jb-eSBsWU464"
      },
      "source": [
        "### **Завдання 2 (1,5 бали)**\n",
        "\n",
        "COCO Dataset - набір фотографій та анотацій до них. Його дуже часто використовують для тренування класифікаторів, призначених для розпізнавання об'єктів та визначення ключових точок на зображеннях.\n",
        "\n",
        "Завантажте файли з описом фотографій COCO Dataset за посиланням: [COCO Dataset](http://images.cocodataset.org/annotations/image_info_test2017.zip).\n",
        "\n",
        "Відкрийте файл image_info_test-dev2017.json. Інформація про фотографії з бази COCO міститься у полі \"images\". Інформація про категорії, на які розділені всі фотографії, міститься у полі \"categories\".\n",
        "\n",
        "1. Визначте кількість фотографій, інформацію про які можна знайти у цьому файлі (кількість елементів, що відповідають ключу \"images\").\n",
        "\n",
        "2. Визначте кількість наявних категорій (кількість елементів, що відповідають ключу \"categories\").\n",
        "\n",
        "3. Виведіть посилання на фотографію 000000000001.jpg (\"coco_url\"). Також виведіть висоту цієї фотографії (\"height\"), ширину (\"width\") та її ідентифікатор (\"id\").\n",
        "\n",
        "4. Виведіть назву фотографії з набільшим номером.\n",
        "\n",
        "Опис структури JSON-файлу для набору фотографій COCO можна знайти за посиланням: [Data format](https://cocodataset.org/#format-data).\n",
        "\n",
        "Щоб перевірити правильність результатів, у VS Code встановіть розширення JSON та відкрийте файл image_info_test-dev2017.json. Розширення автоматично визначає кількість елементів у кожному полі."
      ]
    },
    {
      "cell_type": "code",
      "execution_count": 1,
      "metadata": {},
      "outputs": [
        {
          "name": "stdout",
          "output_type": "stream",
          "text": [
            "Number of images:  20288\n",
            "Number of categories:  80\n",
            "url:  http://images.cocodataset.org/test2017/000000000001.jpg\n",
            "height:  480\n",
            "width:  640\n",
            "id:  1\n",
            "000000581918.jpg\n"
          ]
        }
      ],
      "source": [
        "import json\n",
        "with open('image_info_test-dev2017.json') as f:\n",
        "    data = json.load(f)\n",
        "    print(\"Number of images: \",len(data['images']))\n",
        "    print(\"Number of categories: \",len(data['categories']))\n",
        "    max = 0\n",
        "    imax = ''\n",
        "    for i in range(len(data['images'])):\n",
        "        if(data['images'][i][\"id\"]>max):\n",
        "            max = data['images'][i][\"id\"]\n",
        "            imax = data['images'][i]['file_name']\n",
        "        if data['images'][i]['file_name']=='000000000001.jpg':\n",
        "            print(\"url: \",data['images'][i][\"coco_url\"])\n",
        "            print(\"height: \",data['images'][i][\"height\"])\n",
        "            print(\"width: \",data['images'][i][\"width\"])\n",
        "            print(\"id: \",data['images'][i][\"id\"])\n",
        "    print(imax)"
      ]
    }
  ],
  "metadata": {
    "colab": {
      "collapsed_sections": [],
      "name": "Practice_14_KM_01.ipynb",
      "provenance": []
    },
    "kernelspec": {
      "display_name": "Python 3",
      "name": "python3"
    },
    "language_info": {
      "codemirror_mode": {
        "name": "ipython",
        "version": 3
      },
      "file_extension": ".py",
      "mimetype": "text/x-python",
      "name": "python",
      "nbconvert_exporter": "python",
      "pygments_lexer": "ipython3",
      "version": "3.8.8"
    }
  },
  "nbformat": 4,
  "nbformat_minor": 0
}
