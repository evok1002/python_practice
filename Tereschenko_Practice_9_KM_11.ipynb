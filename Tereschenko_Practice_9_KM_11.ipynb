{
  "cells": [
    {
      "cell_type": "markdown",
      "metadata": {
        "id": "FMqboNwO4rVs"
      },
      "source": [
        "# **Курс \"Програмування на мові Python\"**"
      ]
    },
    {
      "cell_type": "markdown",
      "metadata": {
        "id": "A2T6MigL5Z06"
      },
      "source": [
        "## **Практичне зайняття №9**\n",
        "\n",
        "### Тема: \"Робота з функціями. Локальні та глобальні змінні\""
      ]
    },
    {
      "cell_type": "markdown",
      "metadata": {
        "id": "cfCdgK2zXm7e"
      },
      "source": [
        "### **Завдання 1 (3 бали)**\n",
        "\n",
        "**Підрахувати визначник матриці, використовуючи правило перестановок.**\n",
        "\n",
        "Функція random_matrix() призначена для створення квадратної матриці випадкових чисел. Її змінювати непотрібно.\n",
        "\n",
        "Приклад використання методу permutations() для створення списку перестановок також подається у комірці з кодом.\n",
        "\n",
        "1) Створити 3 функції: функцію створення списку перестановок, функцію підрахунку добутків та функцію підрахунку загальної суми.\n",
        "\n",
        "2) Кожна функція має супроводжуватись рядком документації, що буде коротко описувати її призначення.\n",
        "\n",
        "3) Розмірність квадратної матриці має вводитись користувачем з клавіатури. Підрахунки виконувати лише в тому разі, якщо користувач введе ціле додатне число.\n",
        "\n",
        "4) Загальний результат повинен підраховуватись за допомогою композиції функцій.\n",
        "\n",
        "За бажанням можна перевірити правильність роботи програми за допомогою функції np.linalg.det(a)."
      ]
    },
    {
      "cell_type": "code",
      "execution_count": null,
      "metadata": {
        "id": "ifNX2M7LXm7f"
      },
      "outputs": [],
      "source": [
        "#Знаходить мінор \n",
        "def minor (m, i, j): \n",
        "    m = [row[:j]+row[j+1:] for row in (m[:i]+m[i+1:])]\n",
        "    return m\n",
        "#Знаходить визначник вокристовуючи функцію minor\n",
        "def det(m): \n",
        "    d = 0\n",
        "    if len(m) == 2:\n",
        "        return (m[0][0]*m[1][1]-m[0][1]*m[1][0])\n",
        "    for i in range(n):\n",
        "        d+=((-1)**i)*m[0][i]*det(minor(m, 0, i))\n",
        "    return d\n",
        "\n",
        "n = int(input ('Input the number of the rows and columns: '))\n",
        "matrix = []\n",
        "for i in range(n):\n",
        "    r = input('Input {0} elements of the {1} row (example - 1, 2, 3, 4): '.format(n,i+1))\n",
        "    arr=r.split(', ')\n",
        "    for k in range(n):\n",
        "        arr[k]=int(arr[k])\n",
        "    matrix.append(arr)\n",
        "print('Your matrix:\\n',matrix)\n",
        "print('Determinant of your matrix: {0}'.format(det(matrix)))"
      ]
    }
  ],
  "metadata": {
    "colab": {
      "collapsed_sections": [],
      "name": "Practice_7_KM-01_.ipynb",
      "provenance": []
    },
    "kernelspec": {
      "display_name": "Python 3",
      "name": "python3"
    }
  },
  "nbformat": 4,
  "nbformat_minor": 0
}
