{
  "nbformat": 4,
  "nbformat_minor": 2,
  "metadata": {
    "colab": {
      "name": "Pranctice_3_KM-01_<name>.ipynb",
      "provenance": [],
      "collapsed_sections": []
    },
    "kernelspec": {
      "name": "python3",
      "display_name": "Python 3"
    }
  },
  "cells": [
    {
      "cell_type": "markdown",
      "source": [
        "# **Курс \"Програмування на мові Python\"**"
      ],
      "metadata": {
        "id": "1bRxWHr5e8kt"
      }
    },
    {
      "cell_type": "markdown",
      "source": [
        "## **Практичне зайняття №3**\n",
        "### Тема: \"Перші програми на Python. Введення та виведення даних. Інструкція if\""
      ],
      "metadata": {
        "id": "buZUwUgFe-kx"
      }
    },
    {
      "cell_type": "markdown",
      "source": [
        "### **Завдання 1 (1,5 бали)**\n",
        "\n"
      ],
      "metadata": {
        "id": "PUkxEn8EfAUe"
      }
    },
    {
      "cell_type": "markdown",
      "source": [
        "**Написати програму введення та виведення даних про одержувача листа (посилки) за стандартами Укрпошти.**\n",
        "\n",
        "1. Усі запити на введення даних повинні супроводжуватись відповідними підказками-поясненнями (бажано англійською мовою).\n",
        "\n",
        "2. Дані мають виводитись так, як показано нижче (з урахуванням кількості рядків та послідовності даних у кожному з них).\n",
        "\n",
        "3. Дані, виділені жирним шрифтом, повинні вводитись із клавіатури. Всього має бути 9 окремих команд введення даних\n",
        "\n",
        "4. Назви змінних повинні бути інформативними та оформленими відповідно до правил іменування змінних\n",
        "\n",
        "5. Додати 2 коментарі, що вказують на блоки введення та виведення даних.\n",
        "\n",
        "***Формат виведення даних:***\n",
        "\n",
        "(1) **Ім'я** (2) **Прізвище**\n",
        "\n",
        "(3) **Номер телефону**\n",
        "\n",
        "Str. (4) **Назва вулиці** (5) **Номер будинку**, ap. (6) **Номер квартири**, (7) **Місто**\n",
        "\n",
        "(8) **Індекс**\n",
        "\n",
        "(9) **Країна**\n",
        "\n",
        "***Приклад виведення:***\n",
        "\n",
        "*Lucas Diallo*\n",
        "\n",
        "*3221234567*\n",
        "\n",
        "*Str. Longue 3, ap. 5, Bruxelles*\n",
        "\n",
        "*1020*\n",
        "\n",
        "*Belgium*"
      ],
      "metadata": {
        "id": "M7jjwxAvfKa2"
      }
    },
    {
      "cell_type": "code",
      "execution_count": null,
      "source": [
        "name = input(\"Input your name: \")\r\n",
        "sur = input(\"Input your surname: \")\r\n",
        "num = input(\"Input your phone number: \")\r\n",
        "street = input(\"Input your street: \")\r\n",
        "hnum = input(\"Input your house number: \")\r\n",
        "anum = input(\"Input your aprtment number: \")\r\n",
        "city = input(\"Input your city: \")\r\n",
        "code = input(\"Input your postcode: \")\r\n",
        "country = input(\"Input your country: \")\r\n",
        "print(name,\" \", sur, sep=\"\")\r\n",
        "print(num)\r\n",
        "print(\"Str. \",hnum,\", ap. \",anum,\", \",city, sep=\"\")\r\n",
        "print(code)\r\n",
        "print(country)\r\n"
      ],
      "outputs": [],
      "metadata": {}
    },
    {
      "cell_type": "markdown",
      "source": [
        "### **Завдання 2 (1,5 бали)**"
      ],
      "metadata": {
        "id": "WmnpKrmPf689"
      }
    },
    {
      "cell_type": "markdown",
      "source": [
        "Таблиця містить магнітуду землетрусів за шкалою Ріхтера та дескриптори, що їй відповідають.\n",
        "\n",
        "Магнітуда | Дескриптор\n",
        "--- | ---\n",
        "Менше, ніж 2 | Micro\n",
        "Від 2 до менше ніж 3 | Very minor\n",
        "Від 3 до менше ніж 4 | Minor\n",
        "Від 4 до менше ніж 5 | Light\n",
        "Від 5 до менше ніж 6 | Moderate\n",
        "Від 6 до менше ніж 7 | Strong\n",
        "Від 7 до менше ніж 8 | Major\n",
        "Від 8 до менше ніж 10 | Great\n",
        "10 та більше | Meteoric\n",
        "\n",
        "Напишіть програму, яка буде зчитувати магнітуду, введену користувачем, та виводити відповідний дескриптор як частину змістовного повідомлення. Наприклад, якщо користувач вводить 5.5, ваша програма повинна показати, що землетрус з такою магнітудою є помірним (moderate)."
      ],
      "metadata": {
        "id": "4n4p_pz7gFKM"
      }
    },
    {
      "cell_type": "code",
      "execution_count": null,
      "source": [
        "m = float(input(\"Please input Richter magnitude: \"))\r\n",
        "if m<2:\r\n",
        "    print(\"Micro\")\r\n",
        "elif 3>m>=2:\r\n",
        "    print(\"Very minor\")\r\n",
        "elif 4>m>=3:\r\n",
        "    print(\"Minor\")\r\n",
        "elif 5>m>=4:\r\n",
        "    print(\"Light\")\r\n",
        "elif 6>m>=5:\r\n",
        "    print(\"Moderate\")\r\n",
        "elif 7>m>=6:\r\n",
        "    print(\"Strong\")\r\n",
        "elif 8>m>=7:\r\n",
        "    print(\"Major\")\r\n",
        "elif 10>m>=8:\r\n",
        "    print(\"Great\")\r\n",
        "else: \r\n",
        "    print(\"Meteoric\")"
      ],
      "outputs": [],
      "metadata": {
        "id": "Nv66Jkkpf-sI"
      }
    },
    {
      "cell_type": "markdown",
      "source": [
        "### **Завдання 3 (бонусне, 1 бал)**"
      ],
      "metadata": {
        "id": "X8fC_GM_nMRi"
      }
    },
    {
      "cell_type": "markdown",
      "source": [
        "Часто говорять, що один календарний рік еквівалентний 7 рокам для собаки. Однак таке просте перетворення не враховує того, що собаки досягають повноліття приблизно у 2 роки. Тому деякі люди вважать, що краще рахувати кожен з перших двох календарних років як 10,5 років для собаки, а потім рахувати кожен наступний календарний рік як 4 роки для собаки.\n",
        "\n",
        "Напишіть програму, яка конвертує календарні роки у \"собачі\", як було показано в попередньому абзаці. Переконайтесь, що ваша програма працює правильно, конвертуючи перші два календарні роки та всі подальші. Ваша програма також повинна виводити повідомлення про помилку, якщо користувач введе від'ємне число."
      ],
      "metadata": {
        "id": "b593txPwotgN"
      }
    },
    {
      "cell_type": "code",
      "execution_count": null,
      "source": [
        "a = True\r\n",
        "while a:\r\n",
        "    years = float(input(\"Input the number of years: \"))\r\n",
        "    if years < 0:\r\n",
        "        print(\"Invalid number. Please try againg...\")\r\n",
        "        continue\r\n",
        "    elif years>2:\r\n",
        "        dyears = (years-2)*4+10.5*2\r\n",
        "        print(\"Dog's years:\", dyears)\r\n",
        "        a = False\r\n",
        "    else:\r\n",
        "        dyears = years *10.5\r\n",
        "        print(\"Dog's years:\", dyears)\r\n",
        "        a = False"
      ],
      "outputs": [],
      "metadata": {
        "id": "PA_E_H0Zosu0"
      }
    }
  ]
}